{
  "cells": [
    {
      "cell_type": "markdown",
      "metadata": {
        "id": "view-in-github",
        "colab_type": "text"
      },
      "source": [
        "<a href=\"https://colab.research.google.com/github/roco999999/deneme/blob/main/euasproject.ipynb\" target=\"_parent\"><img src=\"https://colab.research.google.com/assets/colab-badge.svg\" alt=\"Open In Colab\"/></a>"
      ]
    },
    {
      "cell_type": "code",
      "execution_count": null,
      "metadata": {
        "id": "bpbbN08lhqN8"
      },
      "outputs": [],
      "source": [
        "!pip install resampy"
      ]
    },
    {
      "cell_type": "code",
      "execution_count": null,
      "metadata": {
        "id": "d4omylv-hRTb"
      },
      "outputs": [],
      "source": [
        "!pip install librosa"
      ]
    },
    {
      "cell_type": "code",
      "execution_count": null,
      "metadata": {
        "id": "VNkjA3BShZg6"
      },
      "outputs": [],
      "source": [
        "import pandas as pd\n",
        "import resampy\n",
        "import os\n",
        "import librosa\n",
        "import librosa.display\n",
        "import numpy as np\n",
        "import IPython.display as ipd\n",
        "import matplotlib.pyplot as plt\n",
        "\n",
        "%matplotlib inline"
      ]
    },
    {
      "cell_type": "code",
      "execution_count": null,
      "metadata": {
        "id": "8htHUqKzhJ1j"
      },
      "outputs": [],
      "source": [
        "from tqdm import tqdm"
      ]
    },
    {
      "cell_type": "code",
      "execution_count": null,
      "metadata": {
        "id": "8oVThc7GhdDq"
      },
      "outputs": [],
      "source": [
        "from google.colab import files\n",
        "\n",
        "# Kaggle.json dosyasını seçin ve yükleyin  \"C:\\Users\\oguzd\\Desktop\\audio-classification\\kaggle.json\"\n",
        "uploaded = files.upload()"
      ]
    },
    {
      "cell_type": "code",
      "execution_count": null,
      "metadata": {
        "id": "rlEFhuzydGAC"
      },
      "outputs": [],
      "source": [
        "!pwd"
      ]
    },
    {
      "cell_type": "code",
      "execution_count": null,
      "metadata": {
        "id": "CehiVPT1dI20"
      },
      "outputs": [],
      "source": [
        "os.environ['KAGGLE_CONFIG_DIR'] = \"/content\""
      ]
    },
    {
      "cell_type": "code",
      "execution_count": null,
      "metadata": {
        "id": "P3eWsivDdO9a"
      },
      "outputs": [],
      "source": [
        "!kaggle datasets download -d chrisfilo/urbansound8k"
      ]
    },
    {
      "cell_type": "code",
      "execution_count": null,
      "metadata": {
        "id": "nBQURDx8dhml"
      },
      "outputs": [],
      "source": [
        "!unzip urbansound8k.zip"
      ]
    },
    {
      "cell_type": "code",
      "execution_count": null,
      "metadata": {
        "id": "RQP2T9wAeK3V"
      },
      "outputs": [],
      "source": [
        "file_name='fold5/100263-2-0-121.wav'\n",
        "\n",
        "audio_data, sampling_rate = librosa.load(file_name)\n",
        "librosa.display.waveshow(audio_data,sr=sampling_rate)\n",
        "ipd.Audio(file_name)\n"
      ]
    },
    {
      "cell_type": "code",
      "execution_count": null,
      "metadata": {
        "id": "IFNGmLyFef9d"
      },
      "outputs": [],
      "source": [
        "audio_data\n"
      ]
    },
    {
      "cell_type": "code",
      "execution_count": null,
      "metadata": {
        "id": "slU5tijwgfZh"
      },
      "outputs": [],
      "source": [
        "sampling_rate"
      ]
    },
    {
      "cell_type": "code",
      "execution_count": null,
      "metadata": {
        "id": "9T3dKCn7giEp"
      },
      "outputs": [],
      "source": [
        "audio_dataset_path='/content/'\n",
        "metadata=pd.read_csv('UrbanSound8K.csv')\n",
        "metadata.head(10)"
      ]
    },
    {
      "cell_type": "code",
      "execution_count": null,
      "metadata": {
        "id": "A9WAxD_sglDp"
      },
      "outputs": [],
      "source": [
        "metadata['class'].value_counts()"
      ]
    },
    {
      "cell_type": "code",
      "execution_count": null,
      "metadata": {
        "id": "t4P8sQXXgo18"
      },
      "outputs": [],
      "source": [
        "mfccs = librosa.feature.mfcc(y=audio_data, sr=sampling_rate, n_mfcc=40)"
      ]
    },
    {
      "cell_type": "code",
      "execution_count": null,
      "metadata": {
        "id": "v3cuMpE2gsSb"
      },
      "outputs": [],
      "source": [
        "mfccs"
      ]
    },
    {
      "cell_type": "code",
      "execution_count": null,
      "metadata": {
        "id": "r5nyDXAFgutz"
      },
      "outputs": [],
      "source": [
        "import librosa\n",
        "import numpy as np\n",
        "\n",
        "def features_extractor(file):\n",
        "    audio, sample_rate = librosa.load(file, sr=None)\n",
        "    mfccs_features = librosa.feature.mfcc(y=audio, sr=sample_rate, n_mfcc=40)\n",
        "    mfccs_scaled_features = np.mean(mfccs_features.T, axis=0)\n",
        "\n",
        "    return mfccs_scaled_features"
      ]
    },
    {
      "cell_type": "code",
      "execution_count": null,
      "metadata": {
        "id": "oq6qveQ2gxf6"
      },
      "outputs": [],
      "source": [
        "import resampy\n",
        "\n",
        "extracted_features = []\n",
        "\n",
        "for index_num, row in tqdm(metadata.iterrows()):\n",
        "    file_name = os.path.join(os.path.abspath(audio_dataset_path), 'fold' + str(row[\"fold\"]) + '/', str(row[\"slice_file_name\"]))\n",
        "    final_class_labels = row[\"class\"]\n",
        "    data = features_extractor(file_name)\n",
        "    extracted_features.append([data, final_class_labels])"
      ]
    },
    {
      "cell_type": "code",
      "execution_count": null,
      "metadata": {
        "id": "f5Jx4sfihAm-"
      },
      "outputs": [],
      "source": [
        "extracted_features_df=pd.DataFrame(extracted_features,columns=['feature','class'])\n",
        "extracted_features_df.head(10)"
      ]
    },
    {
      "cell_type": "code",
      "execution_count": null,
      "metadata": {
        "id": "XQzT27y9HFcp"
      },
      "outputs": [],
      "source": [
        "X=np.array(extracted_features_df['feature'].tolist())\n",
        "y=np.array(extracted_features_df['class'].tolist())"
      ]
    },
    {
      "cell_type": "code",
      "execution_count": null,
      "metadata": {
        "id": "oO1xhfNHHH1Y"
      },
      "outputs": [],
      "source": [
        "from tensorflow.keras.utils import to_categorical\n",
        "from sklearn.preprocessing import LabelEncoder\n",
        "labelencoder=LabelEncoder()\n",
        "y=to_categorical(labelencoder.fit_transform(y))"
      ]
    },
    {
      "cell_type": "code",
      "execution_count": null,
      "metadata": {
        "id": "xmNVRBe5HMHj"
      },
      "outputs": [],
      "source": [
        "from sklearn.model_selection import train_test_split\n",
        "X_train,X_test,y_train,y_test=train_test_split(X,y,test_size=0.2,random_state=0)"
      ]
    },
    {
      "cell_type": "code",
      "execution_count": null,
      "metadata": {
        "id": "-yL5YACrHOsE"
      },
      "outputs": [],
      "source": [
        "import tensorflow as tf\n",
        "print(tf.__version__)"
      ]
    },
    {
      "cell_type": "code",
      "execution_count": null,
      "metadata": {
        "id": "vLiHtN2aHQ_X"
      },
      "outputs": [],
      "source": [
        "from tensorflow.keras.models import Sequential\n",
        "from tensorflow.keras.layers import Dense,Dropout,Activation,Flatten\n",
        "from tensorflow.keras.optimizers import Adam\n",
        "from sklearn import metrics"
      ]
    },
    {
      "cell_type": "code",
      "execution_count": null,
      "metadata": {
        "id": "NunrwEQVHT-U"
      },
      "outputs": [],
      "source": [
        "model=Sequential()\n",
        "###first layer\n",
        "model.add(Dense(100,input_shape=(40,)))\n",
        "model.add(Activation('relu'))\n",
        "model.add(Dropout(0.5))\n",
        "###second layer\n",
        "model.add(Dense(200))\n",
        "model.add(Activation('relu'))\n",
        "model.add(Dropout(0.5))\n",
        "###third layer\n",
        "model.add(Dense(100))\n",
        "model.add(Activation('relu'))\n",
        "model.add(Dropout(0.5))\n",
        "\n",
        "###final layer\n",
        "num_labels = 10\n",
        "\n",
        "model.add(Dense(num_labels))\n",
        "model.add(Activation('softmax'))"
      ]
    },
    {
      "cell_type": "code",
      "execution_count": null,
      "metadata": {
        "id": "vNPIfJIvHpMf"
      },
      "outputs": [],
      "source": [
        "model.compile(loss='categorical_crossentropy',metrics=['accuracy'],optimizer='adam')\n"
      ]
    },
    {
      "cell_type": "code",
      "execution_count": null,
      "metadata": {
        "id": "pJZXObVpHrdb"
      },
      "outputs": [],
      "source": [
        "from tensorflow.keras.callbacks import ModelCheckpoint\n",
        "from datetime import datetime\n",
        "\n",
        "num_epochs = 200\n",
        "num_batch_size = 32\n",
        "\n",
        "checkpointer = ModelCheckpoint(filepath='saved_models/audio_classification.hdf5',\n",
        "                               verbose=1, save_best_only=True)\n",
        "start = datetime.now()\n",
        "\n",
        "model.fit(X_train, y_train, batch_size=num_batch_size, epochs=num_epochs, validation_data=(X_test, y_test), callbacks=[checkpointer], verbose=1)\n",
        "\n",
        "\n",
        "duration = datetime.now() - start\n",
        "print(\"Training completed in time: \", duration)"
      ]
    },
    {
      "cell_type": "code",
      "execution_count": null,
      "metadata": {
        "id": "nypEO2ZvIbht"
      },
      "outputs": [],
      "source": [
        "test_accuracy=model.evaluate(X_test,y_test,verbose=0)\n",
        "print(test_accuracy[1])"
      ]
    },
    {
      "cell_type": "code",
      "execution_count": null,
      "metadata": {
        "id": "sCkVLwsEIipW"
      },
      "outputs": [],
      "source": [
        "import librosa\n",
        "import numpy as np\n",
        "\n",
        "\n",
        "filename = \"fold5/6508-9-1-0.wav\"\n",
        "\n",
        "# Ses dosyasını yükle\n",
        "audio, sample_rate = librosa.load(filename, sr=None)\n",
        "\n",
        "# Yükseklik değerlerini normalize et\n",
        "audio = audio / np.max(np.abs(audio))\n",
        "\n",
        "# Eğer sample_rate'yi almak istiyorsanız:\n",
        "print(\"Sample Rate:\", sample_rate)\n",
        "\n",
        "# MFCC özelliklerini çıkar\n",
        "mfccs_features = librosa.feature.mfcc(y=audio, sr=sample_rate, n_mfcc=40)\n",
        "mfccs_scaled_features = np.mean(mfccs_features.T, axis=0)\n",
        "\n",
        "#print(mfccs_scaled_features)\n",
        "mfccs_scaled_features = mfccs_scaled_features.reshape(1, -1)\n",
        "#print(mfccs_scaled_features)\n",
        "#print(mfccs_scaled_features.shape)\n",
        "\n",
        "# Tahmin yap\n",
        "predicted_label = model.predict(mfccs_scaled_features)\n",
        "#print(predicted_label)\n",
        "\n",
        "# Tahmin sonucunu etiket olarak çevir\n",
        "classes_x = np.argmax(predicted_label, axis=1)\n",
        "prediction_class = labelencoder.inverse_transform(classes_x)\n",
        "print(prediction_class)\n"
      ]
    },
    {
      "cell_type": "code",
      "source": [
        "metadata['class'].value_counts()"
      ],
      "metadata": {
        "id": "Wy6WlN-h5k55"
      },
      "execution_count": null,
      "outputs": []
    }
  ],
  "metadata": {
    "colab": {
      "provenance": [],
      "authorship_tag": "ABX9TyMII56RqXAel2P4UMhU73cw",
      "include_colab_link": true
    },
    "kernelspec": {
      "display_name": "Python 3",
      "name": "python3"
    },
    "language_info": {
      "name": "python"
    }
  },
  "nbformat": 4,
  "nbformat_minor": 0
}